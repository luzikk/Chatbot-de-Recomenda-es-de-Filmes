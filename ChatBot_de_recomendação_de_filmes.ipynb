{
  "nbformat": 4,
  "nbformat_minor": 0,
  "metadata": {
    "colab": {
      "provenance": []
    },
    "kernelspec": {
      "name": "python3",
      "display_name": "Python 3"
    },
    "language_info": {
      "name": "python"
    }
  },
  "cells": [
    {
      "cell_type": "code",
      "execution_count": 11,
      "metadata": {
        "colab": {
          "base_uri": "https://localhost:8080/",
          "height": 573
        },
        "id": "e8V9auwGd8Vq",
        "outputId": "efbb4c1a-223f-46fe-cede-95c7cc9d7b9b"
      },
      "outputs": [
        {
          "output_type": "stream",
          "name": "stdout",
          "text": [
            "Digite um filme que você assistiu: taxi driver\n",
            "Digite um filme que você assistiu: fight club\n",
            "Digite um filme que você assistiu: nightcrawler\n",
            "**Filmes Assistidos:** Taxi Driver, Fight Club, Nightcrawler\n",
            "\n",
            "**Análise do Gosto Pessoal:**\n",
            "\n",
            "Com base nos filmes assistidos, é possível identificar que você aprecia filmes que:\n",
            "\n",
            "* Exploram temas complexos e perturbadores\n",
            "* Possuem personagens anti-heróis ou moralmente ambíguos\n",
            "* Apresentam cenários urbanos sombrios e violentos\n",
            "\n",
            "**Recomendações:**\n",
            "\n",
            "**1. Clube da Luta (2001)**\n",
            "\n",
            "* Direção: David Fincher\n",
            "* Sinopse: Um homem insone se junta a um clube de luta clandestino, onde encontra um estranho carismático que o leva a uma jornada de autodescoberta e anarquia.\n",
            "* Disponível em: Netflix, Amazon Prime Video\n",
            "\n",
            "**2. O Coringa (2019)**\n",
            "\n",
            "* Direção: Todd Phillips\n",
            "* Sinopse: O comediante fracassado Arthur Fleck se transforma no icônico vilão do Batman, em uma história sombria sobre doença mental e desigualdade social.\n",
            "* Disponível em: HBO Max\n",
            "\n",
            "**3. Drive (2011)**\n",
            "\n",
            "* Direção: Nicolas Winding Refn\n",
            "* Sinopse: Um dublê de cinema à noite se envolve em um assalto que dá errado, colocando-o em um caminho perigoso e violento.\n",
            "* Disponível em: Netflix, Amazon Prime Video\n"
          ]
        }
      ],
      "source": [
        "# instalando o sdk\n",
        "!pip install -q -U google-generativeai\n",
        "\n",
        "# Importando a api key\n",
        "import google.generativeai as genai\n",
        "from google.colab import userdata\n",
        "API_KEY = userdata.get(\"SECRET_KEY\")\n",
        "\n",
        "genai.configure(api_key=API_KEY)\n",
        "\n",
        "\"\"\"\n",
        "# gerar lista dos modelos\n",
        "for m in genai.list_models():\n",
        "  if 'generateContent' in m.supported_generation_methods:\n",
        "    print(m.name)\n",
        "\"\"\"\n",
        "\n",
        "# configurando os parametros do bot\n",
        "generation_config = {\n",
        "    \"candidate_count\": 1,\n",
        "    \"temperature\": 0.8,\n",
        "}\n",
        "safety_settings = {\n",
        "    \"HARASSMENT\": \"BLOCK_NONE\",\n",
        "    \"HATE\": \"BLOCK_NONE\",\n",
        "    \"SEXUAL\": \"BLOCK_NONE\",\n",
        "    \"DANGEROUS\": \"BLOCK_NONE\",\n",
        "}\n",
        "\n",
        "model = genai.GenerativeModel(model_name=\"gemini-1.0-pro\",\n",
        "                              generation_config=generation_config,\n",
        "                              safety_settings=safety_settings)\n",
        "\n",
        "response = model.generate_content\n",
        "\n",
        "# Utilizando o metodo de few-shot para gerar as recomendações de filmes\n",
        "prompt = []\n",
        "for i in range(3):\n",
        "    prompt.append(input(\"Digite um filme que você assistiu: \"))\n",
        "\n",
        "\n",
        "prompt_parts = [\n",
        "    \"filmes assistidos: Ballerina, John Wick, Atomic Blonde\",\n",
        "    \"analise do gosto pessoal: Com base nos filmes que você assistiu, reparei que você gosta de filmes de ação com foco em vingança\",\n",
        "    \"recomendacao 1 - Bullet Train (2022)\\nDireção: David Leitch\\nSinopse: Em um trem-bala indo rapidamente de Tóquio a Morioka, cinco assassinos profissionais descobrem que possuem o mesmo objetivo.\\nDisponivel em: Amazon Prime Video\",\n",
        "    \"recomendacao 2 - The Killer (2023)\\nDireção: David Fincher\\nSinopse: Depois de um quase acidente fatídico, um assassino enfrenta seus empregadores e a ele mesmo, em uma caçada humana internacional que ele insiste não ser pessoal.\\nDisponivel em: Netflix\",\n",
        "    \"recomendacao 3 - Oldboy (2003)\\nDireção: Park Chan-wook\\nSinopse: Dae-Su é raptado e mantido em cativeiro por 15 anos num quarto de hotel, sem qualquer contato com o mundo externo. Quando ele é inexplicavelmente solto, descobre que é acusado pelo assassinato da esposa e embarca numa missão obsessiva por vingança.\\nDisponivel em: MUBI\",\n",
        "    f\"filmes assistidos: {', '.join(prompt)}\",\n",
        "    \"analise do gosto pessoal: \",\n",
        "    \"recomendacao 1: \",\n",
        "    \"recomendacao 2: \",\n",
        "    \"recomendacao 3: \",\n",
        "]\n",
        "response = model.generate_content(prompt_parts)\n",
        "print(response.text)"
      ]
    }
  ]
}